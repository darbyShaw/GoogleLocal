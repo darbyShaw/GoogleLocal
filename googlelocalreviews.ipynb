{
 "cells": [
  {
   "cell_type": "code",
   "execution_count": 1,
   "metadata": {
    "colab": {},
    "colab_type": "code",
    "id": "8kQaOmwy7hoC"
   },
   "outputs": [],
   "source": [
    "import tensorflow as tf\n",
    "import os\n",
    "import tensorflow_datasets as tfds"
   ]
  },
  {
   "cell_type": "code",
   "execution_count": null,
   "metadata": {
    "colab": {
     "base_uri": "https://localhost:8080/",
     "height": 649
    },
    "colab_type": "code",
    "id": "ckRchOq2Mc-0",
    "outputId": "4c0dfeb6-55b1-483d-e906-500547561553"
   },
   "outputs": [],
   "source": [
    "from google_local_users import GoogleLocalUsers\n",
    "\n",
    "users = GoogleLocalUsers()\n",
    "\n",
    "dl_config = tfds.download.DownloadConfig(register_checksums=True)\n",
    "users.download_and_prepare(download_config=dl_config)\n",
    "\n",
    "train_dataset = users.as_dataset(split=\"train\")\n",
    "test_dataset = users.as_dataset(split=\"test\")\n",
    "\n",
    "assert(isinstance(train_dataset, tf.data.Dataset))\n",
    "assert(isinstance(test_dataset, tf.data.Dataset))\n",
    "\n",
    "\n",
    "for a_train_example in train_dataset.take(5):\n",
    "    data = a_train_example[\"userName\"]\n",
    "    print(data)\n",
    "for a_test_example in test_dataset.take(5):\n",
    "    data = a_test_example[\"userName\"]\n",
    "    print(data)\n",
    "\n",
    "# print info about the data\n",
    "print(users.info)"
   ]
  },
  {
   "cell_type": "code",
   "execution_count": null,
   "metadata": {
    "colab": {
     "base_uri": "https://localhost:8080/",
     "height": 649
    },
    "colab_type": "code",
    "id": "kEI3QGxYZGW7",
    "outputId": "b6dd8520-e7ce-4692-c9be-7ab3192652fc"
   },
   "outputs": [],
   "source": [
    "from google_local_reviews import GoogleLocalReviews\n",
    "reviews = GoogleLocalReviews()\n",
    "\n",
    "dl_config = tfds.download.DownloadConfig(register_checksums=True)\n",
    "reviews.download_and_prepare(download_config=dl_config)\n",
    "\n",
    "train_dataset = reviews.as_dataset(split=\"train\")\n",
    "test_dataset = reviews.as_dataset(split=\"test\")\n",
    "\n",
    "assert(isinstance(train_dataset, tf.data.Dataset))\n",
    "assert(isinstance(test_dataset, tf.data.Dataset))\n",
    "\n",
    "\n",
    "for a_train_example in train_dataset.take(5):\n",
    "    data = a_train_example[\"review_data\"]\n",
    "    print(data)\n",
    "for a_test_example in test_dataset.take(5):\n",
    "    data = a_test_example[\"review_data\"]\n",
    "    print(data)\n",
    "\n",
    "# print info about the data\n",
    "print(reviews.info)"
   ]
  },
  {
   "cell_type": "code",
   "execution_count": 2,
   "metadata": {
    "colab": {
     "base_uri": "https://localhost:8080/",
     "height": 649
    },
    "colab_type": "code",
    "id": "mvy2n5HB22dL",
    "outputId": "b2d31633-1f71-4fc4-8ee8-4c287d0f75a5"
   },
   "outputs": [
    {
     "name": "stdout",
     "output_type": "stream",
     "text": [
      "\u001b[1mDownloading and preparing dataset google_local_places/0.1.0 (download: Unknown size, generated: Unknown size, total: Unknown size) to /home/heena/tensorflow_datasets/google_local_places/0.1.0...\u001b[0m\n"
     ]
    },
    {
     "data": {
      "application/vnd.jupyter.widget-view+json": {
       "model_id": "a4bdfb41c7114cd7ad9f0a045d3315ee",
       "version_major": 2,
       "version_minor": 0
      },
      "text/plain": [
       "HBox(children=(HTML(value='Dl Completed...'), FloatProgress(value=1.0, bar_style='info', layout=Layout(width='…"
      ]
     },
     "metadata": {},
     "output_type": "display_data"
    },
    {
     "data": {
      "application/vnd.jupyter.widget-view+json": {
       "model_id": "8f6868ef157a4094b3af01c1e9d7e00a",
       "version_major": 2,
       "version_minor": 0
      },
      "text/plain": [
       "HBox(children=(HTML(value='Dl Size...'), FloatProgress(value=1.0, bar_style='info', layout=Layout(width='20px'…"
      ]
     },
     "metadata": {},
     "output_type": "display_data"
    },
    {
     "data": {
      "application/vnd.jupyter.widget-view+json": {
       "model_id": "9f1e5c73481341b3847095671dcb6dc0",
       "version_major": 2,
       "version_minor": 0
      },
      "text/plain": [
       "HBox(children=(HTML(value='Extraction completed...'), FloatProgress(value=1.0, bar_style='info', layout=Layout…"
      ]
     },
     "metadata": {},
     "output_type": "display_data"
    },
    {
     "name": "stdout",
     "output_type": "stream",
     "text": [
      "\n",
      "\n",
      "\n",
      "\n",
      "\n",
      "\n"
     ]
    },
    {
     "data": {
      "application/vnd.jupyter.widget-view+json": {
       "model_id": "",
       "version_major": 2,
       "version_minor": 0
      },
      "text/plain": [
       "HBox(children=(HTML(value=''), FloatProgress(value=0.0, max=2.0), HTML(value='')))"
      ]
     },
     "metadata": {},
     "output_type": "display_data"
    },
    {
     "data": {
      "application/vnd.jupyter.widget-view+json": {
       "model_id": "",
       "version_major": 2,
       "version_minor": 0
      },
      "text/plain": [
       "HBox(children=(HTML(value=''), FloatProgress(value=1.0, bar_style='info', layout=Layout(width='20px'), max=1.0…"
      ]
     },
     "metadata": {},
     "output_type": "display_data"
    },
    {
     "name": "stdout",
     "output_type": "stream",
     "text": [
      "Shuffling and writing examples to /home/heena/tensorflow_datasets/google_local_places/0.1.0.incomplete307NEI/google_local_places-train.tfrecord\n"
     ]
    },
    {
     "data": {
      "application/vnd.jupyter.widget-view+json": {
       "model_id": "883432bbafdb4444840423332fdc8bea",
       "version_major": 2,
       "version_minor": 0
      },
      "text/plain": [
       "HBox(children=(HTML(value=''), FloatProgress(value=0.0, max=11.0), HTML(value='')))"
      ]
     },
     "metadata": {},
     "output_type": "display_data"
    },
    {
     "data": {
      "application/vnd.jupyter.widget-view+json": {
       "model_id": "",
       "version_major": 2,
       "version_minor": 0
      },
      "text/plain": [
       "HBox(children=(HTML(value=''), FloatProgress(value=1.0, bar_style='info', layout=Layout(width='20px'), max=1.0…"
      ]
     },
     "metadata": {},
     "output_type": "display_data"
    },
    {
     "name": "stdout",
     "output_type": "stream",
     "text": [
      "Shuffling and writing examples to /home/heena/tensorflow_datasets/google_local_places/0.1.0.incomplete307NEI/google_local_places-test.tfrecord\n"
     ]
    },
    {
     "data": {
      "application/vnd.jupyter.widget-view+json": {
       "model_id": "dc0727df82f547058ac6ada4bc5190c4",
       "version_major": 2,
       "version_minor": 0
      },
      "text/plain": [
       "HBox(children=(HTML(value=''), FloatProgress(value=0.0, max=1.0), HTML(value='')))"
      ]
     },
     "metadata": {},
     "output_type": "display_data"
    },
    {
     "name": "stdout",
     "output_type": "stream",
     "text": [
      "\u001b[1mDataset google_local_places downloaded and prepared to /home/heena/tensorflow_datasets/google_local_places/0.1.0. Subsequent calls will reuse this data.\u001b[0m\n",
      "11\n",
      "tf.Tensor(b\"{'road': 'West Oklahoma Avenue', 'county': 'Grant County', 'state': 'Kansas', 'country': 'United States of America', 'country_code': 'us'}\", shape=(), dtype=string)\n",
      "tf.Tensor(b\"{'house_number': '44', 'road': 'Stuttgarter Stra\\xc3\\x9fe', 'neighbourhood': 'Halde', 'suburb': 'Unterhaugstett', 'city_district': 'Unterhaugstett', 'town': 'Bad Liebenzell', 'municipality': 'Verwaltungsgemeinschaft Bad Liebenzell', 'county': 'Landkreis Calw', 'state': 'Baden-W\\xc3\\xbcrttemberg', 'postcode': '75378', 'country': 'Deutschland', 'country_code': 'de'}\", shape=(), dtype=string)\n",
      "tf.Tensor(b\"{'shop': 'Carrefour Palembang', 'road': 'Jalan Angkatan 45', 'county': 'Ilir Timur I', 'city': 'Palembang', 'state': 'Sumatera Selatan', 'postcode': '30137', 'country': 'Indonesia', 'country_code': 'id'}\", shape=(), dtype=string)\n",
      "tf.Tensor(b\"{'road': 'Wilmington Pike', 'hamlet': 'Oakdale', 'city': 'Kettering', 'county': 'Montgomery County', 'state': 'Ohio', 'postcode': '45440', 'country': 'United States of America', 'country_code': 'us'}\", shape=(), dtype=string)\n",
      "tf.Tensor(b\"{'county': 'Riverside County', 'state': 'California', 'country': 'United States of America', 'country_code': 'us'}\", shape=(), dtype=string)\n",
      "tf.Tensor(b\"{'county': 'Riverside County', 'state': 'California', 'country': 'United States of America', 'country_code': 'us'}\", shape=(), dtype=string)\n",
      "tfds.core.DatasetInfo(\n",
      "    name='google_local_places',\n",
      "    version=0.1.0,\n",
      "    description='Google local places dataset',\n",
      "    homepage='https://cseweb.ucsd.edu/~jmcauley/datasets.html#google_local',\n",
      "    features=FeaturesDict({\n",
      "        'address': tf.string,\n",
      "        'closed': tf.string,\n",
      "        'gPlusPlaceId': tf.string,\n",
      "        'gps': tf.string,\n",
      "        'hours': tf.string,\n",
      "        'name': tf.string,\n",
      "        'phone': tf.string,\n",
      "        'price': tf.string,\n",
      "    }),\n",
      "    total_num_examples=12,\n",
      "    splits={\n",
      "        'test': 1,\n",
      "        'train': 11,\n",
      "    },\n",
      "    supervised_keys=None,\n",
      "    citation=\"\"\"Translation-based factorization machines for sequential recommendation\n",
      "    Rajiv Pasricha, Julian McAuley\n",
      "    RecSys, 2018\n",
      "    \n",
      "    Translation-based recommendation\n",
      "    Ruining He, Wang-Cheng Kang, Julian McAuley\n",
      "    RecSys, 2017\"\"\",\n",
      "    redistribution_info=,\n",
      ")\n",
      "\n"
     ]
    }
   ],
   "source": [
    "from google_local_places import GoogleLocalPlaces\n",
    "places = GoogleLocalPlaces()\n",
    "\n",
    "dl_config = tfds.download.DownloadConfig(register_checksums=True)\n",
    "                                         #download_mode = tfds.GenerateMode.REUSE_CACHE_IF_EXISTS)\n",
    "places.download_and_prepare(download_config=dl_config)\n",
    "\n",
    "train_dataset = places.as_dataset(split=\"train\")\n",
    "test_dataset = places.as_dataset(split=\"test\")\n",
    "\n",
    "assert(isinstance(train_dataset, tf.data.Dataset))\n",
    "assert(isinstance(test_dataset, tf.data.Dataset))\n",
    "\n",
    "print(train_dataset.cardinality().numpy())\n",
    "\n",
    "for a_train_example in train_dataset.take(5):\n",
    "    data = a_train_example[\"address\"]\n",
    "    print(data)\n",
    "for a_test_example in test_dataset.take(5):\n",
    "    data = a_test_example[\"address\"]\n",
    "    print(data)\n",
    "\n",
    "# print info about the data\n",
    "print(places.info)\n"
   ]
  },
  {
   "cell_type": "code",
   "execution_count": null,
   "metadata": {
    "colab": {},
    "colab_type": "code",
    "id": "pdVHH5Sf7uAB"
   },
   "outputs": [],
   "source": [
    "\n"
   ]
  },
  {
   "cell_type": "code",
   "execution_count": null,
   "metadata": {},
   "outputs": [],
   "source": []
  }
 ],
 "metadata": {
  "colab": {
   "authorship_tag": "ABX9TyNrH5/Q4exFYxZD3ODrHzNx",
   "collapsed_sections": [],
   "name": "googlelocalreviews.ipynb",
   "provenance": [],
   "toc_visible": true
  },
  "kernelspec": {
   "display_name": "Python 3",
   "language": "python",
   "name": "python3"
  },
  "language_info": {
   "codemirror_mode": {
    "name": "ipython",
    "version": 3
   },
   "file_extension": ".py",
   "mimetype": "text/x-python",
   "name": "python",
   "nbconvert_exporter": "python",
   "pygments_lexer": "ipython3",
   "version": "3.6.12"
  }
 },
 "nbformat": 4,
 "nbformat_minor": 1
}
