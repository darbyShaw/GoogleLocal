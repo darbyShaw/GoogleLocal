{
  "nbformat": 4,
  "nbformat_minor": 0,
  "metadata": {
    "colab": {
      "name": "googlelocalreviews.ipynb",
      "provenance": [],
      "collapsed_sections": [],
      "toc_visible": true,
      "authorship_tag": "ABX9TyNrH5/Q4exFYxZD3ODrHzNx"
    },
    "kernelspec": {
      "name": "python3",
      "display_name": "Python 3"
    }
  },
  "cells": [
    {
      "cell_type": "code",
      "metadata": {
        "id": "8kQaOmwy7hoC",
        "colab_type": "code",
        "colab": {}
      },
      "source": [
        "import tensorflow as tf\n",
        "import os\n",
        "import tensorflow_datasets as tfds"
      ],
      "execution_count": 1,
      "outputs": []
    },
    {
      "cell_type": "code",
      "metadata": {
        "id": "ckRchOq2Mc-0",
        "colab_type": "code",
        "colab": {
          "base_uri": "https://localhost:8080/",
          "height": 649
        },
        "outputId": "4c0dfeb6-55b1-483d-e906-500547561553"
      },
      "source": [
        "from tensorflow_datasets.structured.google_local_users import GoogleLocalUsers\n",
        "import tensorflow as tf\n",
        "users = GoogleLocalUsers()\n",
        "\n",
        "dl_config = tfds.download.DownloadConfig(register_checksums=True)\n",
        "users.download_and_prepare(download_config=dl_config)\n",
        "\n",
        "train_dataset = users.as_dataset(split=\"train\")\n",
        "test_dataset = users.as_dataset(split=\"test\")\n",
        "\n",
        "assert(isinstance(train_dataset, tf.data.Dataset))\n",
        "assert(isinstance(test_dataset, tf.data.Dataset))\n",
        "\n",
        "\n",
        "for a_train_example in train_dataset.take(5):\n",
        "    data = a_train_example[\"user_data\"]\n",
        "    print(data)\n",
        "for a_test_example in test_dataset.take(5):\n",
        "    data = a_test_example[\"user_data\"]\n",
        "    print(data)\n",
        "\n",
        "# print info about the data\n",
        "print(users.info)"
      ],
      "execution_count": 2,
      "outputs": [
        {
          "output_type": "stream",
          "text": [
            "tf.Tensor(b\"{'userName': u'James Stafford', 'jobs': None, 'currentPlace': None, 'previousPlaces': [[u'Cheadle Hulme', [[], 533719420, -21936890, 1]], [u'Hulme', [[], 534656750, -22509460, 1]], [u'Whalley Range, Manchester', [[], 534488870, -22565960, 1]]], 'education': [[[], [], [], [], [], 6], []], 'gPlusUserId': '100064457379414983443'}\", shape=(), dtype=string)\n",
            "tf.Tensor(b\"{'userName': u'Nya Parker', 'jobs': [[u'GROCERY STORE', u'cashier4lyfe', [], u'', u'']], 'currentPlace': None, 'previousPlaces': None, 'education': [[[], [], [], [], [], 6], []], 'gPlusUserId': '100808822708260321439'}\", shape=(), dtype=string)\n",
            "tf.Tensor(b\"{'userName': u'Asad Saleh Hayat', 'jobs': None, 'currentPlace': [u'Tarbela', [[], 340869140, 727015190, 1]], 'previousPlaces': [[u'Topi', [[], 340700300, 726265340, 1]], [u'Tarbela', [[], 340869140, 727015190, 1]]], 'education': [[[], [], [], [], [], 6], [[u'WAPDA Degree College Tarbela Dam', u'B.Sc', [[1, 1, 2011], [1, 1, 2012], 1], u'', u''], [u'WAPDA Senior Model School Tarbela Dam', u'', [[], [1, 1, 2009]], u'', u'']]], 'gPlusUserId': '101383524941239721273'}\", shape=(), dtype=string)\n",
            "tf.Tensor(b\"{'userName': u'\\\\u0410\\\\u043d\\\\u0434\\\\u0440\\\\u0435\\\\u0439 \\\\u0413\\\\u0440\\\\u0438\\\\u0433\\\\u043e\\\\u0440\\\\u044c\\\\u0435\\\\u0432', 'jobs': None, 'currentPlace': None, 'previousPlaces': None, 'education': [[[], [], [], [], [], 6], []], 'gPlusUserId': '101459234961593123534'}\", shape=(), dtype=string)\n",
            "tf.Tensor(b\"{'userName': u'Vincent zhang', 'jobs': None, 'currentPlace': None, 'previousPlaces': None, 'education': [[[], [], [], [], [], 6], []], 'gPlusUserId': '100626752032714598615'}\", shape=(), dtype=string)\n",
            "tf.Tensor(b\"{'userName': u'Brians TirePros', 'jobs': None, 'currentPlace': None, 'previousPlaces': None, 'education': [[[], [], [], [], [], 6], []], 'gPlusUserId': '103115269214336104864'}\", shape=(), dtype=string)\n",
            "tf.Tensor(b\"{'userName': u'Anne Breitinger', 'jobs': None, 'currentPlace': None, 'previousPlaces': None, 'education': [[[], [], [], [], [], 6], []], 'gPlusUserId': '103027731818818007219'}\", shape=(), dtype=string)\n",
            "tf.Tensor(b\"{'userName': u'Carlos  Gomes', 'jobs': None, 'currentPlace': None, 'previousPlaces': None, 'education': [[[], [], [], [], [], 6], []], 'gPlusUserId': '104148044970301874723'}\", shape=(), dtype=string)\n",
            "tf.Tensor(b\"{'userName': u'Paul Hermann', 'jobs': None, 'currentPlace': None, 'previousPlaces': None, 'education': [[[], [], [], [], [], 6], []], 'gPlusUserId': '103728347667763839061'}\", shape=(), dtype=string)\n",
            "tf.Tensor(b\"{'userName': u'CHIRAG VED', 'jobs': None, 'currentPlace': None, 'previousPlaces': None, 'education': [[[], [], [], [], [], 6], []], 'gPlusUserId': '103079797557113900194'}\", shape=(), dtype=string)\n",
            "tfds.core.DatasetInfo(\n",
            "    name='google_local_users',\n",
            "    version=0.1.0,\n",
            "    description='\n",
            "User information for google local dataset.\n",
            "',\n",
            "    homepage='https://cseweb.ucsd.edu/~jmcauley/datasets.html#google_local',\n",
            "    features=FeaturesDict({\n",
            "        'user_data': Text(shape=(), dtype=tf.string),\n",
            "    }),\n",
            "    total_num_examples=749585,\n",
            "    splits={\n",
            "        'test': 374793,\n",
            "        'train': 374792,\n",
            "    },\n",
            "    supervised_keys=None,\n",
            "    citation=\"\"\"Translation-based factorization machines for sequential recommendation\n",
            "    Rajiv Pasricha, Julian McAuley\n",
            "    RecSys, 2018\n",
            "    \n",
            "    Translation-based recommendation\n",
            "    Ruining He, Wang-Cheng Kang, Julian McAuley\n",
            "    RecSys, 2017\"\"\",\n",
            "    redistribution_info=,\n",
            ")\n",
            "\n"
          ],
          "name": "stdout"
        }
      ]
    },
    {
      "cell_type": "code",
      "metadata": {
        "id": "kEI3QGxYZGW7",
        "colab_type": "code",
        "colab": {
          "base_uri": "https://localhost:8080/",
          "height": 649
        },
        "outputId": "b6dd8520-e7ce-4692-c9be-7ab3192652fc"
      },
      "source": [
        "from tensorflow_datasets.structured.google_local_reviews import GoogleLocalReviews\n",
        "reviews = GoogleLocalReviews()\n",
        "\n",
        "dl_config = tfds.download.DownloadConfig(register_checksums=True)\n",
        "reviews.download_and_prepare(download_config=dl_config)\n",
        "\n",
        "train_dataset = reviews.as_dataset(split=\"train\")\n",
        "test_dataset = reviews.as_dataset(split=\"test\")\n",
        "\n",
        "assert(isinstance(train_dataset, tf.data.Dataset))\n",
        "assert(isinstance(test_dataset, tf.data.Dataset))\n",
        "\n",
        "\n",
        "for a_train_example in train_dataset.take(5):\n",
        "    data = a_train_example[\"review_data\"]\n",
        "    print(data)\n",
        "for a_test_example in test_dataset.take(5):\n",
        "    data = a_test_example[\"review_data\"]\n",
        "    print(data)\n",
        "\n",
        "# print info about the data\n",
        "print(reviews.info)"
      ],
      "execution_count": 3,
      "outputs": [
        {
          "output_type": "stream",
          "text": [
            "tf.Tensor(b\"{'rating': 3.0, 'reviewerName': u'Vary good Tom', 'reviewText': None, 'categories': [u'University', u'College'], 'gPlusPlaceId': u'102095288342312759147', 'unixReviewTime': 1393424889, 'reviewTime': u'Feb 26, 2014', 'gPlusUserId': u'100000078935887875612'}\\n\", shape=(), dtype=string)\n",
            "tf.Tensor(b'{\\'rating\\': 2.0, \\'reviewerName\\': u\\'Richard Yocom\\', \\'reviewText\\': u\"We ordered two large pizzas during the any pizza any way for $10. Our order come to $38 including a salad. You now have to ask for the special or you won\\'t get it. They will charge you full price. The salad was pathetic and disgusting it had gnats all over it in the food and flying around. Service was ok. But for a salad bar to look that way was ridiculous....will not be back. You will wait a while for your pizza....\", \\'categories\\': [u\\'Pizza Restaurant\\', u\\'European Restaurant\\'], \\'gPlusPlaceId\\': u\\'102333498482915416504\\', \\'unixReviewTime\\': 1378170758, \\'reviewTime\\': u\\'Sep 2, 2013\\', \\'gPlusUserId\\': u\\'100000053212755369563\\'}\\n', shape=(), dtype=string)\n",
            "tf.Tensor(b\"{'rating': 5.0, 'reviewerName': u'\\\\u68ee\\\\u7530\\\\u3055\\\\u3068\\\\u3053', 'reviewText': u'\\\\u79c1\\\\u306f\\\\u4eca\\\\u5ea6\\\\u306f\\\\u4f11\\\\u307f\\\\u304c\\\\u30b6\\\\u30fb\\\\u30e2\\\\u30fc\\\\u30eb\\\\u2605\\\\u306e\\\\u6620\\\\u753b\\\\u306b\\\\u884c\\\\u3063\\\\u3066\\\\u6765\\\\u307e\\\\u3059\\\\u3002', 'categories': [u'Shopping Mall'], 'gPlusPlaceId': u'107998775704210253660', 'unixReviewTime': 1390825528, 'reviewTime': u'Jan 27, 2014', 'gPlusUserId': u'100000021336848867366'}\\n\", shape=(), dtype=string)\n",
            "tf.Tensor(b\"{'rating': 5.0, 'reviewerName': u'Abdalla Mhyo', 'reviewText': None, 'categories': [u'Pharmacy'], 'gPlusPlaceId': u'105189692822715192956', 'unixReviewTime': 1391811501, 'reviewTime': u'Feb 7, 2014', 'gPlusUserId': u'100000098705705725158'}\\n\", shape=(), dtype=string)\n",
            "tf.Tensor(b\"{'rating': 5.0, 'reviewerName': u'Abdalla Mhyo', 'reviewText': None, 'categories': [u'Tourist Attraction'], 'gPlusPlaceId': u'100210715039723165870', 'unixReviewTime': 1389481046, 'reviewTime': u'Jan 11, 2014', 'gPlusUserId': u'100000098705705725158'}\\n\", shape=(), dtype=string)\n",
            "tf.Tensor(b\"{'rating': 5.0, 'reviewerName': u'Thomas Weingart', 'reviewText': None, 'categories': [u'Bakery', u'Cafe'], 'gPlusPlaceId': u'114245095716198817868', 'unixReviewTime': 1357511024, 'reviewTime': u'Jan 6, 2013', 'gPlusUserId': u'100000142643769001873'}\\n\", shape=(), dtype=string)\n",
            "tf.Tensor(b\"{'rating': 1.0, 'reviewerName': u'Kevin Wong', 'reviewText': u'This should be at 16ave NE and centre st, not McKnight Blvd', 'categories': [u'Physician'], 'gPlusPlaceId': u'114818045411895418983', 'unixReviewTime': 1238738403, 'reviewTime': u'Apr 2, 2009', 'gPlusUserId': u'100000112348576179158'}\\n\", shape=(), dtype=string)\n",
            "tf.Tensor(b\"{'rating': 5.0, 'reviewerName': u'William Corcuera', 'reviewText': u'I live in sandiego its about an hour drive and every time we go its worth it to the last bite. Yummm. Wish their was one closer.', 'categories': [u'Chicken Restaurant'], 'gPlusPlaceId': u'101959623187827102951', 'unixReviewTime': 1388002613, 'reviewTime': u'Dec 25, 2013', 'gPlusUserId': u'100000122158721897485'}\\n\", shape=(), dtype=string)\n",
            "tf.Tensor(b\"{'rating': 4.0, 'reviewerName': u'Ashley Craig', 'reviewText': u'High quality and interesting food. Great coffee - try the coffee flights! Nice warehouse-style fit-out and coffee equipment too.', 'categories': [u'Coffee Shop'], 'gPlusPlaceId': u'105200572766918162116', 'unixReviewTime': 1381491785, 'reviewTime': u'Oct 11, 2013', 'gPlusUserId': u'100000170274048052171'}\\n\", shape=(), dtype=string)\n",
            "tf.Tensor(b\"{'rating': 4.0, 'reviewerName': u'Ray Jacobs', 'reviewText': None, 'categories': [u'Haunted House', u'Entertainment'], 'gPlusPlaceId': u'110563840268723075029', 'unixReviewTime': 1319307261, 'reviewTime': u'Oct 22, 2011', 'gPlusUserId': u'100000202208212354964'}\\n\", shape=(), dtype=string)\n",
            "tfds.core.DatasetInfo(\n",
            "    name='google_local_reviews',\n",
            "    version=0.1.0,\n",
            "    description='\n",
            "Google local reviews dataset\n",
            "',\n",
            "    homepage='https://cseweb.ucsd.edu/~jmcauley/datasets.html#google_local',\n",
            "    features=FeaturesDict({\n",
            "        'review_data': Text(shape=(), dtype=tf.string),\n",
            "    }),\n",
            "    total_num_examples=102,\n",
            "    splits={\n",
            "        'test': 51,\n",
            "        'train': 51,\n",
            "    },\n",
            "    supervised_keys=None,\n",
            "    citation=\"\"\"Translation-based factorization machines for sequential recommendation\n",
            "    Rajiv Pasricha, Julian McAuley\n",
            "    RecSys, 2018\n",
            "    \n",
            "    Translation-based recommendation\n",
            "    Ruining He, Wang-Cheng Kang, Julian McAuley\n",
            "    RecSys, 2017\"\"\",\n",
            "    redistribution_info=,\n",
            ")\n",
            "\n"
          ],
          "name": "stdout"
        }
      ]
    },
    {
      "cell_type": "code",
      "metadata": {
        "id": "mvy2n5HB22dL",
        "colab_type": "code",
        "colab": {
          "base_uri": "https://localhost:8080/",
          "height": 649
        },
        "outputId": "b2d31633-1f71-4fc4-8ee8-4c287d0f75a5"
      },
      "source": [
        "from tensorflow_datasets.structured.google_local_places import GoogleLocalPlaces\n",
        "places = GoogleLocalPlaces()\n",
        "\n",
        "dl_config = tfds.download.DownloadConfig(register_checksums=True)\n",
        "places.download_and_prepare(download_config=dl_config)\n",
        "\n",
        "train_dataset = places.as_dataset(split=\"train\")\n",
        "test_dataset = places.as_dataset(split=\"test\")\n",
        "\n",
        "assert(isinstance(train_dataset, tf.data.Dataset))\n",
        "assert(isinstance(test_dataset, tf.data.Dataset))\n",
        "\n",
        "\n",
        "for a_train_example in train_dataset.take(5):\n",
        "    data = a_train_example[\"places_data\"]\n",
        "    print(data)\n",
        "for a_test_example in test_dataset.take(5):\n",
        "    data = a_test_example[\"places_data\"]\n",
        "    print(data)\n",
        "\n",
        "# print info about the data\n",
        "print(places.info)"
      ],
      "execution_count": 5,
      "outputs": [
        {
          "output_type": "stream",
          "text": [
            "tf.Tensor(b\"{'name': u'Std Isd', 'price': None, 'address': [u'12-A, M T H Road, M T H Road', u'Telephone Exchange Rd, Ambattur Industrial Estate', u'Chennai, Tamil Nadu 600053, India'], 'hours': None, 'phone': u'044 2638 3798', 'closed': False, 'gPlusPlaceId': '113292579149737492154', 'gps': [13.101418, 80.162066]}\\n\", shape=(), dtype=string)\n",
            "tf.Tensor(b\"{'name': u'Juliet Photography', 'price': None, 'address': [u'8825 Man Of War Dr', u'Waxhaw, NC 28173'], 'hours': None, 'phone': u'(704) 243-3226', 'closed': False, 'gPlusPlaceId': '110904357941128849034', 'gps': [34.998894, -80.797123]}\\n\", shape=(), dtype=string)\n",
            "tf.Tensor(b\"{'name': u'Single Tree Inn', 'price': None, 'address': [u'2033 W Oklahoma Ave', u'Ulysses, KS 67880'], 'hours': None, 'phone': u'(620) 356-1500', 'closed': False, 'gPlusPlaceId': '103848836623683146185', 'gps': [37.576427, -101.386182]}\\n\", shape=(), dtype=string)\n",
            "tf.Tensor(b\"{'name': u'Carlos Drumont de Andrade', 'price': None, 'address': [u'Rua Jos\\\\xe9 Galding, 21 - Let\\\\xedcia', u'Belo Horizonte - MG', u'31570-210, Brazil'], 'hours': [[u'Monday', [[u'7:00 am--6:00 pm']]], [u'Tuesday', [[u'7:00 am--6:00 pm']]], [u'Wednesday', [[u'7:00 am--6:00 pm']], 1], [u'Thursday', [[u'7:00 am--6:00 pm']]], [u'Friday', [[u'7:00 am--6:00 pm']]], [u'Saturday', [[u'Closed']]], [u'Sunday', [[u'Closed']]]], 'phone': u'(31) 3277-5597', 'closed': False, 'gPlusPlaceId': '111160079523379949757', 'gps': [-19.805944, -43.976866]}\\n\", shape=(), dtype=string)\n",
            "tf.Tensor(b\"{'name': u'Smoothie King', 'price': u'$$', 'address': [u'1097 Industrial Pkwy', u'Saraland, AL 36571'], 'hours': None, 'phone': None, 'closed': False, 'gPlusPlaceId': '109038562492379971333', 'gps': [30.801426, -88.098032]}\\n\", shape=(), dtype=string)\n",
            "tf.Tensor(b\"{'name': u'Northwood House of Pizza', 'price': None, 'address': [u'258 First NH Turnpike', u'Northwood, NH 03261'], 'hours': [[u'Monday', [[u'Closed']]], [u'Tuesday', [[u'10:30 am--8:00 pm']]], [u'Wednesday', [[u'10:30 am--8:00 pm']], 1], [u'Thursday', [[u'10:30 am--9:00 pm']]], [u'Friday', [[u'10:30 am--9:00 pm']]], [u'Saturday', [[u'10:30 am--9:00 pm']]], [u'Sunday', [[u'10:30 am--8:00 pm']]]], 'phone': u'(603) 942-5068', 'closed': False, 'gPlusPlaceId': '109447917293174126560', 'gps': [43.198598, -71.15766]}\\n\", shape=(), dtype=string)\n",
            "tf.Tensor(b\"{'name': u'Oakville Grocery', 'price': u'$', 'address': [u'124 Matheson St', u'Healdsburg, CA 95448'], 'hours': [[u'Monday', [[u'9:00 am--5:00 pm']], 1], [u'Tuesday', [[u'9:00 am--5:00 pm']]], [u'Wednesday', [[u'9:00 am--5:00 pm']]], [u'Thursday', [[u'9:00 am--5:00 pm']]], [u'Friday', [[u'9:00 am--5:00 pm']]], [u'Saturday', [[u'9:00 am--5:00 pm']]], [u'Sunday', [[u'9:00 am--5:00 pm']]]], 'phone': u'(707) 433-3200', 'closed': False, 'gPlusPlaceId': '111156869923885463513', 'gps': [38.610501, -122.86919]}\\n\", shape=(), dtype=string)\n",
            "tf.Tensor(b\"{'name': u'Spedini Florian\\\\xf3polis - Restaurante Italiano', 'price': None, 'address': [u'Av. Madre Benvenuta, 687 - Santa M\\\\xf4nica', u'Florian\\\\xf3polis - SC', u'88037-200, Brazil'], 'hours': [[u'Monday', [[u'10:00 am--10:00 pm']]], [u'Tuesday', [[u'10:00 am--10:00 pm']]], [u'Wednesday', [[u'10:00 am--10:00 pm']], 1], [u'Thursday', [[u'10:00 am--10:00 pm']]], [u'Friday', [[u'10:00 am--10:00 pm']]], [u'Saturday', [[u'10:00 am--10:00 pm']]], [u'Sunday', [[u'10:00 am--10:00 pm']]]], 'phone': u'(48) 3239-8668', 'closed': False, 'gPlusPlaceId': '101681051183780550205', 'gps': [-27.590262, -48.515017]}\\n\", shape=(), dtype=string)\n",
            "tf.Tensor(b\"{'name': u'Victoria Restaurant', 'price': None, 'address': [u'Prithvi Market, Station Road, Opposite Rungta High School, Station Road', u'Station Rd, Soneri Mahal', u'Bharuch, Gujarat 392001, India'], 'hours': None, 'phone': u'02642 243 659', 'closed': False, 'gPlusPlaceId': '100921883008900266096', 'gps': [21.698901, 72.983992]}\\n\", shape=(), dtype=string)\n",
            "tf.Tensor(b\"{'name': u'Treasure Pot Chinese Takeaway', 'price': None, 'address': [u'101 Manchester Rd', u'Manchester M21 9GA', u'United Kingdom'], 'hours': [[u'Monday', [[u'5:30--11:30 pm']]], [u'Tuesday', [[u'Closed']]], [u'Wednesday', [[u'5:30--11:30 pm']], 1], [u'Thursday', [[u'5:30--11:30 pm']]], [u'Friday', [[u'5:30--11:30 pm']]], [u'Saturday', [[u'5:30--11:30 pm']]], [u'Sunday', [[u'5:30--11:30 pm']]]], 'phone': u'0161 881 3609', 'closed': False, 'gPlusPlaceId': '111299137574557827857', 'gps': [53.44674, -2.277592]}\\n\", shape=(), dtype=string)\n",
            "tfds.core.DatasetInfo(\n",
            "    name='google_local_places',\n",
            "    version=0.1.0,\n",
            "    description='\n",
            "Google local places dataset\n",
            "',\n",
            "    homepage='https://cseweb.ucsd.edu/~jmcauley/datasets.html#google_local',\n",
            "    features=FeaturesDict({\n",
            "        'places_data': Text(shape=(), dtype=tf.string),\n",
            "    }),\n",
            "    total_num_examples=102,\n",
            "    splits={\n",
            "        'test': 51,\n",
            "        'train': 51,\n",
            "    },\n",
            "    supervised_keys=None,\n",
            "    citation=\"\"\"Translation-based factorization machines for sequential recommendation\n",
            "    Rajiv Pasricha, Julian McAuley\n",
            "    RecSys, 2018\n",
            "    \n",
            "    Translation-based recommendation\n",
            "    Ruining He, Wang-Cheng Kang, Julian McAuley\n",
            "    RecSys, 2017\"\"\",\n",
            "    redistribution_info=,\n",
            ")\n",
            "\n"
          ],
          "name": "stdout"
        }
      ]
    },
    {
      "cell_type": "code",
      "metadata": {
        "id": "pdVHH5Sf7uAB",
        "colab_type": "code",
        "colab": {}
      },
      "source": [
        ""
      ],
      "execution_count": null,
      "outputs": []
    }
  ]
}